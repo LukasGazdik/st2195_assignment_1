{
 "cells": [
  {
   "cell_type": "markdown",
   "id": "803917be-4d88-40d5-a021-8a8450caddfb",
   "metadata": {},
   "source": [
    "# Assignment 1 \n",
    "The following is the Python script that prints all integers between 1 and 10 to screen as per st2195 assignment 1 point 4: "
   ]
  },
  {
   "cell_type": "code",
   "execution_count": 2,
   "id": "c19f55d7-404a-478a-adcd-2e986c35ad55",
   "metadata": {},
   "outputs": [
    {
     "name": "stdout",
     "output_type": "stream",
     "text": [
      "1\n",
      "2\n",
      "3\n",
      "4\n",
      "5\n",
      "6\n",
      "7\n",
      "8\n",
      "9\n",
      "10\n"
     ]
    }
   ],
   "source": [
    "# Print integers from 1 to 10\n",
    "for i in range(1,11):\n",
    "    print(i)"
   ]
  },
  {
   "cell_type": "code",
   "execution_count": null,
   "id": "de1b04d6-4fbf-4175-8e90-bba18714a8a0",
   "metadata": {},
   "outputs": [],
   "source": []
  }
 ],
 "metadata": {
  "kernelspec": {
   "display_name": "Python 3 (ipykernel)",
   "language": "python",
   "name": "python3"
  },
  "language_info": {
   "codemirror_mode": {
    "name": "ipython",
    "version": 3
   },
   "file_extension": ".py",
   "mimetype": "text/x-python",
   "name": "python",
   "nbconvert_exporter": "python",
   "pygments_lexer": "ipython3",
   "version": "3.11.4"
  }
 },
 "nbformat": 4,
 "nbformat_minor": 5
}
